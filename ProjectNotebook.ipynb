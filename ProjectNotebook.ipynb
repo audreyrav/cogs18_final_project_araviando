{
 "cells": [
  {
   "cell_type": "markdown",
   "metadata": {},
   "source": [
    "# Project Description"
   ]
  },
  {
   "cell_type": "markdown",
   "metadata": {},
   "source": [
    "Write a brief description of your project here. \n",
    "\n",
    "Hello and welcome to my project! For this assignment, I decided to make a brief screening tool in the form of a chatbot for parents who suspect that their child might have conduct disorder (CD). At the beginning, the chatbot will ask the user to type anything in order to proceed with the test. The user will then be asked six questions about behaviors or symptoms related to conduct disorder. After that, the scores from the questions will be totaled and the user will receive a likelihood of conduct disorder. The user then will be asked whether they want to receive more information about the disorder."
   ]
  },
  {
   "cell_type": "markdown",
   "metadata": {},
   "source": [
    "## Project Code\n",
    "\n",
    "If it makes sense for your project, you can have code and outputs here in the notebook as well."
   ]
  },
  {
   "cell_type": "code",
   "execution_count": 1,
   "metadata": {},
   "outputs": [
    {
     "name": "stdout",
     "output_type": "stream",
     "text": [
      "Hello! Thank you for taking the time to participate \n",
      "in this conduct discorder (CD) screening tool.\n",
      "If you suspect that your child is struggling with conduct disorder, \n",
      "please answer these questions below by typing the number 1-5. \n",
      "\n",
      "Please note that this screening tool is not meant to provide a diagnosis, \n",
      "but rather an assessment that could determine if your child might need \n",
      "to consult a health professional for further information or treatment.\n",
      "\n",
      "\n",
      "Type anything to continue\n",
      "p\n",
      "\n",
      "Does your child have protruding thoughts and urges to hurt other people or animals? \n",
      "    \n",
      " 1. Never \n",
      " 2. Rarely \n",
      " 3. Sometimes \n",
      " 4. Often \n",
      " 5. Very Often \n",
      "1\n",
      "\n",
      "Has your child engaged in behaviors of theft or vandalism? \n",
      "    \n",
      " 1. Never \n",
      " 2. Rarely \n",
      " 3. Sometimes \n",
      " 4. Often \n",
      " 5. Very Often \n",
      "2\n",
      "\n",
      "Does your child find themselves lying to or manipulating others a lot? \n",
      "    \n",
      " 1. Never \n",
      " 2. Rarely \n",
      " 3. Sometimes \n",
      " 4. Often \n",
      " 5. Very Often \n",
      "3\n",
      "\n",
      "Has your child ever ran away from home or school? \n",
      "    \n",
      " 1. Never \n",
      " 2. Rarely \n",
      " 3. Sometimes \n",
      " 4. Often \n",
      " 5. Very Often \n",
      "2\n",
      "\n",
      "Does your child have trouble performing well in school and blame others for their poor performance? \n",
      "    \n",
      " 1. Never \n",
      " 2. Rarely \n",
      " 3. Sometimes \n",
      " 4. Often \n",
      " 5. Very Often \n",
      "1\n",
      "\n",
      "Does your child have trouble showing emotion towards others? \n",
      "    \n",
      " 1. Never \n",
      " 2. Rarely \n",
      " 3. Sometimes \n",
      " 4. Often \n",
      " 5. Very Often \n",
      "4\n",
      "\n",
      "It was found that the total score of your screening test was 13 out of 30. \n",
      "            \n",
      "This indicates that your child is\u001b[1m \u001b[91m NOT \u001b[0m likely to have conduct disorder.\n",
      "\n",
      "Getting help is always possible. \n",
      "            \n",
      "To find additional information and assistance for you or \n",
      "            \n",
      "your child regarding conduct disorder, there are a number of resources available. \n",
      "            \n",
      "Would you like to look into this? Type yes or no.\n",
      "yes\n",
      "\n",
      "Great! Here are some resources/treatments that you could consider:\n"
     ]
    },
    {
     "data": {
      "text/html": [
       "<style  type=\"text/css\" >\n",
       "    #T_6bb5a_ th {\n",
       "          text-align: left;\n",
       "    }#T_6bb5a_row0_col0,#T_6bb5a_row1_col0,#T_6bb5a_row2_col0,#T_6bb5a_row3_col0,#T_6bb5a_row4_col0{\n",
       "            text-align:  left;\n",
       "        }</style><table id=\"T_6bb5a_\" ><thead>    <tr>        <th class=\"blank level0\" ></th>        <th class=\"col_heading level0 col0\" >Treatment Options</th>    </tr></thead><tbody>\n",
       "                <tr>\n",
       "                        <th id=\"T_6bb5a_level0_row0\" class=\"row_heading level0 row0\" >1</th>\n",
       "                        <td id=\"T_6bb5a_row0_col0\" class=\"data row0 col0\" >Cognitive behavioral therapy</td>\n",
       "            </tr>\n",
       "            <tr>\n",
       "                        <th id=\"T_6bb5a_level0_row1\" class=\"row_heading level0 row1\" >2</th>\n",
       "                        <td id=\"T_6bb5a_row1_col0\" class=\"data row1 col0\" >Family therapy</td>\n",
       "            </tr>\n",
       "            <tr>\n",
       "                        <th id=\"T_6bb5a_level0_row2\" class=\"row_heading level0 row2\" >3</th>\n",
       "                        <td id=\"T_6bb5a_row2_col0\" class=\"data row2 col0\" >Group therapy</td>\n",
       "            </tr>\n",
       "            <tr>\n",
       "                        <th id=\"T_6bb5a_level0_row3\" class=\"row_heading level0 row3\" >4</th>\n",
       "                        <td id=\"T_6bb5a_row3_col0\" class=\"data row3 col0\" >School support</td>\n",
       "            </tr>\n",
       "            <tr>\n",
       "                        <th id=\"T_6bb5a_level0_row4\" class=\"row_heading level0 row4\" >5</th>\n",
       "                        <td id=\"T_6bb5a_row4_col0\" class=\"data row4 col0\" >Medication</td>\n",
       "            </tr>\n",
       "    </tbody></table>"
      ],
      "text/plain": [
       "<pandas.io.formats.style.Styler at 0x7f3ad443b100>"
      ]
     },
     "metadata": {},
     "output_type": "display_data"
    },
    {
     "name": "stdout",
     "output_type": "stream",
     "text": [
      "\n",
      "Here is also a video that could provide more information about the disorder:\n"
     ]
    },
    {
     "data": {
      "image/jpeg": "[encoded data removed]",
      "text/html": [
       "\n",
       "        <iframe\n",
       "            width=\"400\"\n",
       "            height=\"300\"\n",
       "            src=\"https://www.youtube.com/embed/EUCIKfNINYU\"\n",
       "            frameborder=\"0\"\n",
       "            allowfullscreen\n",
       "        ></iframe>\n",
       "        "
      ],
      "text/plain": [
       "<IPython.lib.display.YouTubeVideo at 0x7f3ad64ad640>"
      ]
     },
     "metadata": {},
     "output_type": "display_data"
    },
    {
     "name": "stdout",
     "output_type": "stream",
     "text": [
      "\n",
      "If you wish to receive a more detailed or specific information and diagnosis for your child, \n",
      "        \n",
      "please consider contacting a mental health professional. Thank you!\n"
     ]
    }
   ],
   "source": [
    "from my_module.functions import cd_screener, get_help"
   ]
  },
  {
   "cell_type": "code",
   "execution_count": null,
   "metadata": {},
   "outputs": [],
   "source": [
    "cd_screener()\n",
    "get_help()"
   ]
  },
  {
   "cell_type": "markdown",
   "metadata": {},
   "source": [
    "#### Extra Credit (*optional*)\n",
    "\n",
    "1. Before this class I had no python or coding experience at all.\n",
    "2. My project went above and beyond as I included 4 unique functions and 9 functions in total over the 3 required functions. I also included a youtube video, text colors, and column alignment, which was not mentioned in class. Thank you!"
   ]
  }
 ],
 "metadata": {
  "kernelspec": {
   "display_name": "Python 3 (ipykernel)",
   "language": "python",
   "name": "python3"
  },
  "language_info": {
   "codemirror_mode": {
    "name": "ipython",
    "version": 3
   },
   "file_extension": ".py",
   "mimetype": "text/x-python",
   "name": "python",
   "nbconvert_exporter": "python",
   "pygments_lexer": "ipython3",
   "version": "3.9.5"
  }
 },
 "nbformat": 4,
 "nbformat_minor": 2
}
